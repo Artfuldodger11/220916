{
  "nbformat": 4,
  "nbformat_minor": 0,
  "metadata": {
    "colab": {
      "provenance": [],
      "include_colab_link": true
    },
    "kernelspec": {
      "name": "python3",
      "display_name": "Python 3"
    },
    "language_info": {
      "name": "python"
    },
    "accelerator": "GPU"
  },
  "cells": [
    {
      "cell_type": "markdown",
      "metadata": {
        "id": "view-in-github",
        "colab_type": "text"
      },
      "source": [
        "<a href=\"https://colab.research.google.com/github/Artfuldodger11/220916/blob/master/How_To_Train_YOLOv5_obb_custom_object_detection%C2%A0%E2%80%94_kopija.ipynb\" target=\"_parent\"><img src=\"https://colab.research.google.com/assets/colab-badge.svg\" alt=\"Open In Colab\"/></a>"
      ]
    },
    {
      "cell_type": "markdown",
      "source": [],
      "metadata": {
        "id": "6QPnT5vgPQKK"
      }
    },
    {
      "cell_type": "markdown",
      "source": [
        "#How To Train YOLOv5 Oriented Bounding Boxes Custom Object Detection\n",
        "\n",
        "Oriented bounding boxes are bounding boxes rotated to better fit the objects represented on an angle. In this notebook, we use the YOLOv5-OBB repository in order to train an already annotated dataset to view the Oriented bounding boxes detection at play.\n",
        "\n",
        "\n",
        "## Instructions\n",
        "\n",
        "Run one cell at at time and run:\n",
        "\n",
        "```\n",
        ">>> import torch\n",
        ">>> torch.version.cuda\n",
        ">>> exit()\n",
        "```\n",
        "\n",
        "when prompted to in the first cell.\n",
        "\n",
        "Addidtional Resources:\n",
        "\n",
        "- [Yolov5-OBB installation instructions](https://github.com/hukaixuan19970627/yolov5_obb/blob/master/docs/install.md)\n",
        "- [Getting started](https://github.com/hukaixuan19970627/yolov5_obb/blob/master/docs/GetStart.md)"
      ],
      "metadata": {
        "id": "STfdGh5Ui6Tn"
      }
    },
    {
      "cell_type": "code",
      "source": [
        "import torch\n"
      ],
      "metadata": {
        "id": "1NZxhXTMWvek"
      },
      "execution_count": null,
      "outputs": []
    },
    {
      "cell_type": "code",
      "source": [
        "!git clone https://github.com/hukaixuan19970627/yolov5_obb.git"
      ],
      "metadata": {
        "id": "9cWpOA-iLBdJ",
        "outputId": "3202b0fe-9489-4e0e-fe01-91bbcd2231d8",
        "colab": {
          "base_uri": "https://localhost:8080/"
        }
      },
      "execution_count": null,
      "outputs": [
        {
          "output_type": "stream",
          "name": "stdout",
          "text": [
            "Cloning into 'yolov5_obb'...\n",
            "remote: Enumerating objects: 704, done.\u001b[K\n",
            "remote: Counting objects: 100% (198/198), done.\u001b[K\n",
            "remote: Compressing objects: 100% (59/59), done.\u001b[K\n",
            "remote: Total 704 (delta 144), reused 139 (delta 139), pack-reused 506\u001b[K\n",
            "Receiving objects: 100% (704/704), 18.16 MiB | 27.58 MiB/s, done.\n",
            "Resolving deltas: 100% (326/326), done.\n"
          ]
        }
      ]
    },
    {
      "cell_type": "code",
      "source": [
        "%cd /content/yolov5_obb/\n",
        "!pip install -r requirements.txt"
      ],
      "metadata": {
        "colab": {
          "base_uri": "https://localhost:8080/"
        },
        "id": "XrMDF3vubJlt",
        "outputId": "41c4e752-ccfa-43b3-add3-156587120129"
      },
      "execution_count": null,
      "outputs": [
        {
          "output_type": "stream",
          "name": "stdout",
          "text": [
            "/content/yolov5_obb\n",
            "Requirement already satisfied: matplotlib>=3.2.2 in /usr/local/lib/python3.10/dist-packages (from -r requirements.txt (line 4)) (3.7.1)\n",
            "Requirement already satisfied: numpy>=1.18.5 in /usr/local/lib/python3.10/dist-packages (from -r requirements.txt (line 5)) (1.25.2)\n",
            "Requirement already satisfied: opencv-python>=4.5.4 in /usr/local/lib/python3.10/dist-packages (from -r requirements.txt (line 6)) (4.8.0.76)\n",
            "Requirement already satisfied: Pillow>=7.1.2 in /usr/local/lib/python3.10/dist-packages (from -r requirements.txt (line 7)) (9.4.0)\n",
            "Requirement already satisfied: PyYAML>=5.3.1 in /usr/local/lib/python3.10/dist-packages (from -r requirements.txt (line 8)) (6.0.1)\n",
            "Requirement already satisfied: requests>=2.23.0 in /usr/local/lib/python3.10/dist-packages (from -r requirements.txt (line 9)) (2.31.0)\n",
            "Requirement already satisfied: scipy>=1.4.1 in /usr/local/lib/python3.10/dist-packages (from -r requirements.txt (line 10)) (1.11.4)\n",
            "Requirement already satisfied: torch>=1.7.0 in /usr/local/lib/python3.10/dist-packages (from -r requirements.txt (line 11)) (2.1.0+cu121)\n",
            "Requirement already satisfied: torchvision>=0.8.1 in /usr/local/lib/python3.10/dist-packages (from -r requirements.txt (line 12)) (0.16.0+cu121)\n",
            "Requirement already satisfied: tqdm>=4.41.0 in /usr/local/lib/python3.10/dist-packages (from -r requirements.txt (line 13)) (4.66.2)\n",
            "Requirement already satisfied: tensorboard>=2.4.1 in /usr/local/lib/python3.10/dist-packages (from -r requirements.txt (line 16)) (2.15.2)\n",
            "Requirement already satisfied: pandas>=1.1.4 in /usr/local/lib/python3.10/dist-packages (from -r requirements.txt (line 20)) (1.5.3)\n",
            "Requirement already satisfied: seaborn>=0.11.0 in /usr/local/lib/python3.10/dist-packages (from -r requirements.txt (line 21)) (0.13.1)\n",
            "Collecting thop (from -r requirements.txt (line 37))\n",
            "  Downloading thop-0.1.1.post2209072238-py3-none-any.whl (15 kB)\n",
            "Requirement already satisfied: contourpy>=1.0.1 in /usr/local/lib/python3.10/dist-packages (from matplotlib>=3.2.2->-r requirements.txt (line 4)) (1.2.0)\n",
            "Requirement already satisfied: cycler>=0.10 in /usr/local/lib/python3.10/dist-packages (from matplotlib>=3.2.2->-r requirements.txt (line 4)) (0.12.1)\n",
            "Requirement already satisfied: fonttools>=4.22.0 in /usr/local/lib/python3.10/dist-packages (from matplotlib>=3.2.2->-r requirements.txt (line 4)) (4.48.1)\n",
            "Requirement already satisfied: kiwisolver>=1.0.1 in /usr/local/lib/python3.10/dist-packages (from matplotlib>=3.2.2->-r requirements.txt (line 4)) (1.4.5)\n",
            "Requirement already satisfied: packaging>=20.0 in /usr/local/lib/python3.10/dist-packages (from matplotlib>=3.2.2->-r requirements.txt (line 4)) (23.2)\n",
            "Requirement already satisfied: pyparsing>=2.3.1 in /usr/local/lib/python3.10/dist-packages (from matplotlib>=3.2.2->-r requirements.txt (line 4)) (3.1.1)\n",
            "Requirement already satisfied: python-dateutil>=2.7 in /usr/local/lib/python3.10/dist-packages (from matplotlib>=3.2.2->-r requirements.txt (line 4)) (2.8.2)\n",
            "Requirement already satisfied: charset-normalizer<4,>=2 in /usr/local/lib/python3.10/dist-packages (from requests>=2.23.0->-r requirements.txt (line 9)) (3.3.2)\n",
            "Requirement already satisfied: idna<4,>=2.5 in /usr/local/lib/python3.10/dist-packages (from requests>=2.23.0->-r requirements.txt (line 9)) (3.6)\n",
            "Requirement already satisfied: urllib3<3,>=1.21.1 in /usr/local/lib/python3.10/dist-packages (from requests>=2.23.0->-r requirements.txt (line 9)) (2.0.7)\n",
            "Requirement already satisfied: certifi>=2017.4.17 in /usr/local/lib/python3.10/dist-packages (from requests>=2.23.0->-r requirements.txt (line 9)) (2024.2.2)\n",
            "Requirement already satisfied: filelock in /usr/local/lib/python3.10/dist-packages (from torch>=1.7.0->-r requirements.txt (line 11)) (3.13.1)\n",
            "Requirement already satisfied: typing-extensions in /usr/local/lib/python3.10/dist-packages (from torch>=1.7.0->-r requirements.txt (line 11)) (4.9.0)\n",
            "Requirement already satisfied: sympy in /usr/local/lib/python3.10/dist-packages (from torch>=1.7.0->-r requirements.txt (line 11)) (1.12)\n",
            "Requirement already satisfied: networkx in /usr/local/lib/python3.10/dist-packages (from torch>=1.7.0->-r requirements.txt (line 11)) (3.2.1)\n",
            "Requirement already satisfied: jinja2 in /usr/local/lib/python3.10/dist-packages (from torch>=1.7.0->-r requirements.txt (line 11)) (3.1.3)\n",
            "Requirement already satisfied: fsspec in /usr/local/lib/python3.10/dist-packages (from torch>=1.7.0->-r requirements.txt (line 11)) (2023.6.0)\n",
            "Requirement already satisfied: triton==2.1.0 in /usr/local/lib/python3.10/dist-packages (from torch>=1.7.0->-r requirements.txt (line 11)) (2.1.0)\n",
            "Requirement already satisfied: absl-py>=0.4 in /usr/local/lib/python3.10/dist-packages (from tensorboard>=2.4.1->-r requirements.txt (line 16)) (1.4.0)\n",
            "Requirement already satisfied: grpcio>=1.48.2 in /usr/local/lib/python3.10/dist-packages (from tensorboard>=2.4.1->-r requirements.txt (line 16)) (1.60.1)\n",
            "Requirement already satisfied: google-auth<3,>=1.6.3 in /usr/local/lib/python3.10/dist-packages (from tensorboard>=2.4.1->-r requirements.txt (line 16)) (2.27.0)\n",
            "Requirement already satisfied: google-auth-oauthlib<2,>=0.5 in /usr/local/lib/python3.10/dist-packages (from tensorboard>=2.4.1->-r requirements.txt (line 16)) (1.2.0)\n",
            "Requirement already satisfied: markdown>=2.6.8 in /usr/local/lib/python3.10/dist-packages (from tensorboard>=2.4.1->-r requirements.txt (line 16)) (3.5.2)\n",
            "Requirement already satisfied: protobuf!=4.24.0,>=3.19.6 in /usr/local/lib/python3.10/dist-packages (from tensorboard>=2.4.1->-r requirements.txt (line 16)) (3.20.3)\n",
            "Requirement already satisfied: setuptools>=41.0.0 in /usr/local/lib/python3.10/dist-packages (from tensorboard>=2.4.1->-r requirements.txt (line 16)) (67.7.2)\n",
            "Requirement already satisfied: six>1.9 in /usr/local/lib/python3.10/dist-packages (from tensorboard>=2.4.1->-r requirements.txt (line 16)) (1.16.0)\n",
            "Requirement already satisfied: tensorboard-data-server<0.8.0,>=0.7.0 in /usr/local/lib/python3.10/dist-packages (from tensorboard>=2.4.1->-r requirements.txt (line 16)) (0.7.2)\n",
            "Requirement already satisfied: werkzeug>=1.0.1 in /usr/local/lib/python3.10/dist-packages (from tensorboard>=2.4.1->-r requirements.txt (line 16)) (3.0.1)\n",
            "Requirement already satisfied: pytz>=2020.1 in /usr/local/lib/python3.10/dist-packages (from pandas>=1.1.4->-r requirements.txt (line 20)) (2023.4)\n",
            "Requirement already satisfied: cachetools<6.0,>=2.0.0 in /usr/local/lib/python3.10/dist-packages (from google-auth<3,>=1.6.3->tensorboard>=2.4.1->-r requirements.txt (line 16)) (5.3.2)\n",
            "Requirement already satisfied: pyasn1-modules>=0.2.1 in /usr/local/lib/python3.10/dist-packages (from google-auth<3,>=1.6.3->tensorboard>=2.4.1->-r requirements.txt (line 16)) (0.3.0)\n",
            "Requirement already satisfied: rsa<5,>=3.1.4 in /usr/local/lib/python3.10/dist-packages (from google-auth<3,>=1.6.3->tensorboard>=2.4.1->-r requirements.txt (line 16)) (4.9)\n",
            "Requirement already satisfied: requests-oauthlib>=0.7.0 in /usr/local/lib/python3.10/dist-packages (from google-auth-oauthlib<2,>=0.5->tensorboard>=2.4.1->-r requirements.txt (line 16)) (1.3.1)\n",
            "Requirement already satisfied: MarkupSafe>=2.1.1 in /usr/local/lib/python3.10/dist-packages (from werkzeug>=1.0.1->tensorboard>=2.4.1->-r requirements.txt (line 16)) (2.1.5)\n",
            "Requirement already satisfied: mpmath>=0.19 in /usr/local/lib/python3.10/dist-packages (from sympy->torch>=1.7.0->-r requirements.txt (line 11)) (1.3.0)\n",
            "Requirement already satisfied: pyasn1<0.6.0,>=0.4.6 in /usr/local/lib/python3.10/dist-packages (from pyasn1-modules>=0.2.1->google-auth<3,>=1.6.3->tensorboard>=2.4.1->-r requirements.txt (line 16)) (0.5.1)\n",
            "Requirement already satisfied: oauthlib>=3.0.0 in /usr/local/lib/python3.10/dist-packages (from requests-oauthlib>=0.7.0->google-auth-oauthlib<2,>=0.5->tensorboard>=2.4.1->-r requirements.txt (line 16)) (3.2.2)\n",
            "Installing collected packages: thop\n",
            "Successfully installed thop-0.1.1.post2209072238\n"
          ]
        }
      ]
    },
    {
      "cell_type": "code",
      "source": [
        "%cd utils/nms_rotated\n",
        "!python setup.py develop  #or \"pip install -v -e .\""
      ],
      "metadata": {
        "id": "11G939jgNaVK",
        "colab": {
          "base_uri": "https://localhost:8080/"
        },
        "outputId": "86de9463-d4f9-489e-f4ab-7dbcdff85791"
      },
      "execution_count": null,
      "outputs": [
        {
          "output_type": "stream",
          "name": "stdout",
          "text": [
            "/content/yolov5_obb/utils/nms_rotated\n",
            "running develop\n",
            "/usr/local/lib/python3.10/dist-packages/setuptools/command/develop.py:40: EasyInstallDeprecationWarning: easy_install command is deprecated.\n",
            "!!\n",
            "\n",
            "        ********************************************************************************\n",
            "        Please avoid running ``setup.py`` and ``easy_install``.\n",
            "        Instead, use pypa/build, pypa/installer, pypa/build or\n",
            "        other standards-based tools.\n",
            "\n",
            "        See https://github.com/pypa/setuptools/issues/917 for details.\n",
            "        ********************************************************************************\n",
            "\n",
            "!!\n",
            "  easy_install.initialize_options(self)\n",
            "/usr/local/lib/python3.10/dist-packages/setuptools/_distutils/cmd.py:66: SetuptoolsDeprecationWarning: setup.py install is deprecated.\n",
            "!!\n",
            "\n",
            "        ********************************************************************************\n",
            "        Please avoid running ``setup.py`` directly.\n",
            "        Instead, use pypa/build, pypa/installer, pypa/build or\n",
            "        other standards-based tools.\n",
            "\n",
            "        See https://blog.ganssle.io/articles/2021/10/setup-py-deprecated.html for details.\n",
            "        ********************************************************************************\n",
            "\n",
            "!!\n",
            "  self.initialize_options()\n",
            "running egg_info\n",
            "creating nms_rotated.egg-info\n",
            "writing nms_rotated.egg-info/PKG-INFO\n",
            "writing dependency_links to nms_rotated.egg-info/dependency_links.txt\n",
            "writing top-level names to nms_rotated.egg-info/top_level.txt\n",
            "writing manifest file 'nms_rotated.egg-info/SOURCES.txt'\n",
            "/usr/local/lib/python3.10/dist-packages/torch/utils/cpp_extension.py:502: UserWarning: Attempted to use ninja as the BuildExtension backend but we could not find ninja.. Falling back to using the slow distutils backend.\n",
            "  warnings.warn(msg.format('we could not find ninja.'))\n",
            "reading manifest file 'nms_rotated.egg-info/SOURCES.txt'\n",
            "writing manifest file 'nms_rotated.egg-info/SOURCES.txt'\n",
            "running build_ext\n",
            "/usr/local/lib/python3.10/dist-packages/torch/utils/cpp_extension.py:414: UserWarning: The detected CUDA version (12.2) has a minor version mismatch with the version that was used to compile PyTorch (12.1). Most likely this shouldn't be a problem.\n",
            "  warnings.warn(CUDA_MISMATCH_WARN.format(cuda_str_version, torch.version.cuda))\n",
            "/usr/local/lib/python3.10/dist-packages/torch/utils/cpp_extension.py:424: UserWarning: There are no x86_64-linux-gnu-g++ version bounds defined for CUDA version 12.2\n",
            "  warnings.warn(f'There are no {compiler_name} version bounds defined for CUDA version {cuda_str_version}')\n",
            "building '.nms_rotated_ext' extension\n",
            "creating build\n",
            "creating build/temp.linux-x86_64-cpython-310\n",
            "creating build/temp.linux-x86_64-cpython-310/src\n",
            "x86_64-linux-gnu-gcc -Wno-unused-result -Wsign-compare -DNDEBUG -g -fwrapv -O2 -Wall -g -fstack-protector-strong -Wformat -Werror=format-security -g -fwrapv -O2 -fPIC -DWITH_CUDA -I/usr/local/lib/python3.10/dist-packages/torch/include -I/usr/local/lib/python3.10/dist-packages/torch/include/torch/csrc/api/include -I/usr/local/lib/python3.10/dist-packages/torch/include/TH -I/usr/local/lib/python3.10/dist-packages/torch/include/THC -I/usr/local/cuda/include -I/usr/include/python3.10 -c src/nms_rotated_cpu.cpp -o build/temp.linux-x86_64-cpython-310/src/nms_rotated_cpu.o -DTORCH_API_INCLUDE_EXTENSION_H -DPYBIND11_COMPILER_TYPE=\\\"_gcc\\\" -DPYBIND11_STDLIB=\\\"_libstdcpp\\\" -DPYBIND11_BUILD_ABI=\\\"_cxxabi1011\\\" -DTORCH_EXTENSION_NAME=nms_rotated_ext -D_GLIBCXX_USE_CXX11_ABI=0 -std=c++17\n",
            "/usr/local/cuda/bin/nvcc -DWITH_CUDA -I/usr/local/lib/python3.10/dist-packages/torch/include -I/usr/local/lib/python3.10/dist-packages/torch/include/torch/csrc/api/include -I/usr/local/lib/python3.10/dist-packages/torch/include/TH -I/usr/local/lib/python3.10/dist-packages/torch/include/THC -I/usr/local/cuda/include -I/usr/include/python3.10 -c src/nms_rotated_cuda.cu -o build/temp.linux-x86_64-cpython-310/src/nms_rotated_cuda.o -D__CUDA_NO_HALF_OPERATORS__ -D__CUDA_NO_HALF_CONVERSIONS__ -D__CUDA_NO_BFLOAT16_CONVERSIONS__ -D__CUDA_NO_HALF2_OPERATORS__ --expt-relaxed-constexpr --compiler-options '-fPIC' -D__CUDA_NO_HALF_OPERATORS__ -D__CUDA_NO_HALF_CONVERSIONS__ -D__CUDA_NO_HALF2_OPERATORS__ -DTORCH_API_INCLUDE_EXTENSION_H -DPYBIND11_COMPILER_TYPE=\\\"_gcc\\\" -DPYBIND11_STDLIB=\\\"_libstdcpp\\\" -DPYBIND11_BUILD_ABI=\\\"_cxxabi1011\\\" -DTORCH_EXTENSION_NAME=nms_rotated_ext -D_GLIBCXX_USE_CXX11_ABI=0 -gencode=arch=compute_75,code=compute_75 -gencode=arch=compute_75,code=sm_75 -std=c++17\n",
            "x86_64-linux-gnu-gcc -Wno-unused-result -Wsign-compare -DNDEBUG -g -fwrapv -O2 -Wall -g -fstack-protector-strong -Wformat -Werror=format-security -g -fwrapv -O2 -fPIC -DWITH_CUDA -I/usr/local/lib/python3.10/dist-packages/torch/include -I/usr/local/lib/python3.10/dist-packages/torch/include/torch/csrc/api/include -I/usr/local/lib/python3.10/dist-packages/torch/include/TH -I/usr/local/lib/python3.10/dist-packages/torch/include/THC -I/usr/local/cuda/include -I/usr/include/python3.10 -c src/nms_rotated_ext.cpp -o build/temp.linux-x86_64-cpython-310/src/nms_rotated_ext.o -DTORCH_API_INCLUDE_EXTENSION_H -DPYBIND11_COMPILER_TYPE=\\\"_gcc\\\" -DPYBIND11_STDLIB=\\\"_libstdcpp\\\" -DPYBIND11_BUILD_ABI=\\\"_cxxabi1011\\\" -DTORCH_EXTENSION_NAME=nms_rotated_ext -D_GLIBCXX_USE_CXX11_ABI=0 -std=c++17\n",
            "/usr/local/cuda/bin/nvcc -DWITH_CUDA -I/usr/local/lib/python3.10/dist-packages/torch/include -I/usr/local/lib/python3.10/dist-packages/torch/include/torch/csrc/api/include -I/usr/local/lib/python3.10/dist-packages/torch/include/TH -I/usr/local/lib/python3.10/dist-packages/torch/include/THC -I/usr/local/cuda/include -I/usr/include/python3.10 -c src/poly_nms_cuda.cu -o build/temp.linux-x86_64-cpython-310/src/poly_nms_cuda.o -D__CUDA_NO_HALF_OPERATORS__ -D__CUDA_NO_HALF_CONVERSIONS__ -D__CUDA_NO_BFLOAT16_CONVERSIONS__ -D__CUDA_NO_HALF2_OPERATORS__ --expt-relaxed-constexpr --compiler-options '-fPIC' -D__CUDA_NO_HALF_OPERATORS__ -D__CUDA_NO_HALF_CONVERSIONS__ -D__CUDA_NO_HALF2_OPERATORS__ -DTORCH_API_INCLUDE_EXTENSION_H -DPYBIND11_COMPILER_TYPE=\\\"_gcc\\\" -DPYBIND11_STDLIB=\\\"_libstdcpp\\\" -DPYBIND11_BUILD_ABI=\\\"_cxxabi1011\\\" -DTORCH_EXTENSION_NAME=nms_rotated_ext -D_GLIBCXX_USE_CXX11_ABI=0 -gencode=arch=compute_75,code=compute_75 -gencode=arch=compute_75,code=sm_75 -std=c++17\n",
            "\u001b[01m\u001b[Ksrc/poly_nms_cuda.cu:4:10:\u001b[m\u001b[K \u001b[01;31m\u001b[Kfatal error: \u001b[m\u001b[KTHC/THC.h: No such file or directory\n",
            "    4 | #include \u001b[01;31m\u001b[K<THC/THC.h>\u001b[m\u001b[K\n",
            "      |          \u001b[01;31m\u001b[K^~~~~~~~~~~\u001b[m\u001b[K\n",
            "compilation terminated.\n",
            "error: command '/usr/local/cuda/bin/nvcc' failed with exit code 1\n"
          ]
        }
      ]
    },
    {
      "cell_type": "code",
      "source": [
        "%cd /content\n",
        "!mkdir /content/datasets/"
      ],
      "metadata": {
        "colab": {
          "base_uri": "https://localhost:8080/"
        },
        "id": "49QzmYLIMK4r",
        "outputId": "285e5bb2-fd8d-4027-ffcf-f83a716e1351"
      },
      "execution_count": null,
      "outputs": [
        {
          "output_type": "stream",
          "name": "stdout",
          "text": [
            "/content\n"
          ]
        }
      ]
    },
    {
      "cell_type": "markdown",
      "source": [
        "##Export\n",
        "\n",
        "Remember to export your annotated dataset following the steps shown [in the video tutorial](https://youtu.be/iRkCNo9-slY?t=136)"
      ],
      "metadata": {
        "id": "HGf0HWV2Lgns"
      }
    },
    {
      "cell_type": "code",
      "source": [
        "%cd /content/datasets/\n",
        "\n",
        "!pip install roboflow\n",
        "\n",
        "from roboflow import Roboflow\n",
        "rf = Roboflow(api_key=\"Vo8Bup2N78wsKlAXatyv\")\n",
        "project = rf.workspace(\"team-roboflow\").project(\"american-sign-language-poly\")\n",
        "dataset = project.version(4).download(\"yolov5-obb\")"
      ],
      "metadata": {
        "colab": {
          "base_uri": "https://localhost:8080/",
          "height": 1000
        },
        "id": "1YDO3yk5dyWx",
        "outputId": "349e0f93-195e-4940-819a-0c5fa59ca0fb"
      },
      "execution_count": null,
      "outputs": [
        {
          "output_type": "stream",
          "name": "stdout",
          "text": [
            "/content/datasets\n",
            "Collecting roboflow\n",
            "  Using cached roboflow-1.1.19-py3-none-any.whl (70 kB)\n",
            "Collecting certifi==2023.7.22 (from roboflow)\n",
            "  Using cached certifi-2023.7.22-py3-none-any.whl (158 kB)\n",
            "Collecting chardet==4.0.0 (from roboflow)\n",
            "  Using cached chardet-4.0.0-py2.py3-none-any.whl (178 kB)\n",
            "Collecting cycler==0.10.0 (from roboflow)\n",
            "  Downloading cycler-0.10.0-py2.py3-none-any.whl (6.5 kB)\n",
            "Collecting idna==2.10 (from roboflow)\n",
            "  Downloading idna-2.10-py2.py3-none-any.whl (58 kB)\n",
            "\u001b[2K     \u001b[90m━━━━━━━━━━━━━━━━━━━━━━━━━━━━━━━━━━━━━━━━\u001b[0m \u001b[32m58.8/58.8 kB\u001b[0m \u001b[31m2.4 MB/s\u001b[0m eta \u001b[36m0:00:00\u001b[0m\n",
            "\u001b[?25hRequirement already satisfied: kiwisolver>=1.3.1 in /usr/local/lib/python3.10/dist-packages (from roboflow) (1.4.5)\n",
            "Requirement already satisfied: matplotlib in /usr/local/lib/python3.10/dist-packages (from roboflow) (3.7.1)\n",
            "Requirement already satisfied: numpy>=1.18.5 in /usr/local/lib/python3.10/dist-packages (from roboflow) (1.25.2)\n",
            "Collecting opencv-python-headless==4.8.0.74 (from roboflow)\n",
            "  Downloading opencv_python_headless-4.8.0.74-cp37-abi3-manylinux_2_17_x86_64.manylinux2014_x86_64.whl (49.1 MB)\n",
            "\u001b[2K     \u001b[90m━━━━━━━━━━━━━━━━━━━━━━━━━━━━━━━━━━━━━━━━\u001b[0m \u001b[32m49.1/49.1 MB\u001b[0m \u001b[31m15.7 MB/s\u001b[0m eta \u001b[36m0:00:00\u001b[0m\n",
            "\u001b[?25hRequirement already satisfied: Pillow>=7.1.2 in /usr/local/lib/python3.10/dist-packages (from roboflow) (9.4.0)\n",
            "Requirement already satisfied: python-dateutil in /usr/local/lib/python3.10/dist-packages (from roboflow) (2.8.2)\n",
            "Collecting python-dotenv (from roboflow)\n",
            "  Downloading python_dotenv-1.0.1-py3-none-any.whl (19 kB)\n",
            "Requirement already satisfied: requests in /usr/local/lib/python3.10/dist-packages (from roboflow) (2.31.0)\n",
            "Requirement already satisfied: six in /usr/local/lib/python3.10/dist-packages (from roboflow) (1.16.0)\n",
            "Collecting supervision (from roboflow)\n",
            "  Downloading supervision-0.18.0-py3-none-any.whl (86 kB)\n",
            "\u001b[2K     \u001b[90m━━━━━━━━━━━━━━━━━━━━━━━━━━━━━━━━━━━━━━━━\u001b[0m \u001b[32m86.7/86.7 kB\u001b[0m \u001b[31m12.5 MB/s\u001b[0m eta \u001b[36m0:00:00\u001b[0m\n",
            "\u001b[?25hRequirement already satisfied: urllib3>=1.26.6 in /usr/local/lib/python3.10/dist-packages (from roboflow) (2.0.7)\n",
            "Requirement already satisfied: tqdm>=4.41.0 in /usr/local/lib/python3.10/dist-packages (from roboflow) (4.66.2)\n",
            "Requirement already satisfied: PyYAML>=5.3.1 in /usr/local/lib/python3.10/dist-packages (from roboflow) (6.0.1)\n",
            "Collecting requests-toolbelt (from roboflow)\n",
            "  Downloading requests_toolbelt-1.0.0-py2.py3-none-any.whl (54 kB)\n",
            "\u001b[2K     \u001b[90m━━━━━━━━━━━━━━━━━━━━━━━━━━━━━━━━━━━━━━━━\u001b[0m \u001b[32m54.5/54.5 kB\u001b[0m \u001b[31m8.1 MB/s\u001b[0m eta \u001b[36m0:00:00\u001b[0m\n",
            "\u001b[?25hCollecting python-magic (from roboflow)\n",
            "  Downloading python_magic-0.4.27-py2.py3-none-any.whl (13 kB)\n",
            "Requirement already satisfied: contourpy>=1.0.1 in /usr/local/lib/python3.10/dist-packages (from matplotlib->roboflow) (1.2.0)\n",
            "Requirement already satisfied: fonttools>=4.22.0 in /usr/local/lib/python3.10/dist-packages (from matplotlib->roboflow) (4.48.1)\n",
            "Requirement already satisfied: packaging>=20.0 in /usr/local/lib/python3.10/dist-packages (from matplotlib->roboflow) (23.2)\n",
            "Requirement already satisfied: pyparsing>=2.3.1 in /usr/local/lib/python3.10/dist-packages (from matplotlib->roboflow) (3.1.1)\n",
            "Requirement already satisfied: charset-normalizer<4,>=2 in /usr/local/lib/python3.10/dist-packages (from requests->roboflow) (3.3.2)\n",
            "Requirement already satisfied: defusedxml<0.8.0,>=0.7.1 in /usr/local/lib/python3.10/dist-packages (from supervision->roboflow) (0.7.1)\n",
            "Requirement already satisfied: scipy<2.0.0,>=1.10.0 in /usr/local/lib/python3.10/dist-packages (from supervision->roboflow) (1.11.4)\n",
            "Installing collected packages: python-magic, python-dotenv, opencv-python-headless, idna, cycler, chardet, certifi, supervision, requests-toolbelt, roboflow\n",
            "  Attempting uninstall: opencv-python-headless\n",
            "    Found existing installation: opencv-python-headless 4.9.0.80\n",
            "    Uninstalling opencv-python-headless-4.9.0.80:\n",
            "      Successfully uninstalled opencv-python-headless-4.9.0.80\n",
            "  Attempting uninstall: idna\n",
            "    Found existing installation: idna 3.6\n",
            "    Uninstalling idna-3.6:\n",
            "      Successfully uninstalled idna-3.6\n",
            "  Attempting uninstall: cycler\n",
            "    Found existing installation: cycler 0.12.1\n",
            "    Uninstalling cycler-0.12.1:\n",
            "      Successfully uninstalled cycler-0.12.1\n",
            "  Attempting uninstall: chardet\n",
            "    Found existing installation: chardet 5.2.0\n",
            "    Uninstalling chardet-5.2.0:\n",
            "      Successfully uninstalled chardet-5.2.0\n",
            "  Attempting uninstall: certifi\n",
            "    Found existing installation: certifi 2024.2.2\n",
            "    Uninstalling certifi-2024.2.2:\n",
            "      Successfully uninstalled certifi-2024.2.2\n",
            "\u001b[31mERROR: pip's dependency resolver does not currently take into account all the packages that are installed. This behaviour is the source of the following dependency conflicts.\n",
            "lida 0.0.10 requires fastapi, which is not installed.\n",
            "lida 0.0.10 requires kaleido, which is not installed.\n",
            "lida 0.0.10 requires python-multipart, which is not installed.\n",
            "lida 0.0.10 requires uvicorn, which is not installed.\u001b[0m\u001b[31m\n",
            "\u001b[0mSuccessfully installed certifi-2023.7.22 chardet-4.0.0 cycler-0.10.0 idna-2.10 opencv-python-headless-4.8.0.74 python-dotenv-1.0.1 python-magic-0.4.27 requests-toolbelt-1.0.0 roboflow-1.1.19 supervision-0.18.0\n"
          ]
        },
        {
          "output_type": "display_data",
          "data": {
            "application/vnd.colab-display-data+json": {
              "pip_warning": {
                "packages": [
                  "certifi",
                  "cycler"
                ]
              }
            }
          },
          "metadata": {}
        },
        {
          "output_type": "stream",
          "name": "stdout",
          "text": [
            "loading Roboflow workspace...\n",
            "loading Roboflow project...\n"
          ]
        },
        {
          "output_type": "stream",
          "name": "stderr",
          "text": [
            "Downloading Dataset Version Zip in American-Sign-Language-Poly-4 to yolov5-obb:: 100%|██████████| 45087/45087 [00:01<00:00, 42290.99it/s]"
          ]
        },
        {
          "output_type": "stream",
          "name": "stdout",
          "text": [
            "\n"
          ]
        },
        {
          "output_type": "stream",
          "name": "stderr",
          "text": [
            "\n",
            "Extracting Dataset Version Zip to American-Sign-Language-Poly-4 in yolov5-obb:: 100%|██████████| 3354/3354 [00:00<00:00, 5574.27it/s]\n"
          ]
        }
      ]
    },
    {
      "cell_type": "markdown",
      "source": [
        "## Rename dataset name to roboflow\n",
        "\n",
        "After running the `!pip install` package, our python.train will expect the dataset name to be `roboflow` (with or without changing the code path below). Make sure to change your cloned dataset folder name to `roboflow` before running the cell below.\n",
        "\n",
        "In other words, make sure your dataset structure is:\n",
        "\n",
        "```\n",
        "parent\n",
        "├── yolov5\n",
        "└── datasets\n",
        "    └── roboflow\n",
        "        ├── test\n",
        "        ├── train\n",
        "        └── valid\n",
        "            ├── images\n",
        "                 |────1.jpg\n",
        "                 |────...\n",
        "                 └────10000.jpg\n",
        "            ├── labelTxt\n",
        "                 |────1.txt\n",
        "                 |────...\n",
        "                 └────10000.txt\n",
        "        └────README.roboflow.txt\n",
        "        └────data.yaml\n",
        "```"
      ],
      "metadata": {
        "id": "cZJDvs5Bd59B"
      }
    },
    {
      "cell_type": "code",
      "source": [
        "%cd /content/yolov5_obb/\n",
        "!python train.py --data /content/datasets/roboflow/data.yaml --epochs 10 --batch-size 1 --img 1024 --device 0 --exist-ok\n"
      ],
      "metadata": {
        "colab": {
          "base_uri": "https://localhost:8080/"
        },
        "id": "jXOF90MZeC11",
        "outputId": "458265f4-7c4d-46be-8885-aad969e0c926"
      },
      "execution_count": null,
      "outputs": [
        {
          "output_type": "stream",
          "name": "stdout",
          "text": [
            "/content/yolov5_obb\n",
            "Traceback (most recent call last):\n",
            "  File \"/content/yolov5_obb/train.py\", line 34, in <module>\n",
            "    import val  # for end-of-epoch mAP\n",
            "  File \"/content/yolov5_obb/val.py\", line 28, in <module>\n",
            "    from models.common import DetectMultiBackend\n",
            "  File \"/content/yolov5_obb/models/common.py\", line 23, in <module>\n",
            "    from utils.datasets import exif_transpose, letterbox\n",
            "  File \"/content/yolov5_obb/utils/datasets.py\", line 28, in <module>\n",
            "    from utils.augmentations import Albumentations, augment_hsv, copy_paste, letterbox, mixup, random_perspective\n",
            "  File \"/content/yolov5_obb/utils/augmentations.py\", line 12, in <module>\n",
            "    from utils.general import LOGGER, check_version, colorstr, resample_segments, segment2box\n",
            "  File \"/content/yolov5_obb/utils/general.py\", line 35, in <module>\n",
            "    from utils.nms_rotated import obb_nms\n",
            "  File \"/content/yolov5_obb/utils/nms_rotated/__init__.py\", line 1, in <module>\n",
            "    from .nms_rotated_wrapper import obb_nms, poly_nms\n",
            "  File \"/content/yolov5_obb/utils/nms_rotated/nms_rotated_wrapper.py\", line 4, in <module>\n",
            "    from . import nms_rotated_ext\n",
            "ImportError: cannot import name 'nms_rotated_ext' from partially initialized module 'utils.nms_rotated' (most likely due to a circular import) (/content/yolov5_obb/utils/nms_rotated/__init__.py)\n"
          ]
        }
      ]
    },
    {
      "cell_type": "code",
      "source": [
        "%cd /content/yolov5_obb/"
      ],
      "metadata": {
        "colab": {
          "base_uri": "https://localhost:8080/"
        },
        "id": "C8xmu3Fy8qSc",
        "outputId": "834b37ec-cfb6-41e1-9957-8175b0aa4e1a"
      },
      "execution_count": null,
      "outputs": [
        {
          "output_type": "stream",
          "name": "stdout",
          "text": [
            "/content/yolov5_obb\n"
          ]
        }
      ]
    },
    {
      "cell_type": "code",
      "source": [
        "!python detect.py --weights 'runs/train/exp/weights/best.pt' --source '../datasets/roboflow/valid/images' --conf-thres 0.01 --img 416 --device 0 --agnostic"
      ],
      "metadata": {
        "id": "8yBGxIBJbL1W",
        "colab": {
          "base_uri": "https://localhost:8080/"
        },
        "outputId": "13ca4dae-89cf-4593-bddb-8c6f33a1ad28"
      },
      "execution_count": null,
      "outputs": [
        {
          "output_type": "stream",
          "name": "stdout",
          "text": [
            "\u001b[34m\u001b[1mdetect: \u001b[0mweights=['runs/train/exp/weights/best.pt'], source=../datasets/roboflow/valid/images, imgsz=[416, 416], conf_thres=0.01, iou_thres=0.4, max_det=1000, device=0, view_img=False, save_txt=False, save_conf=False, save_crop=False, nosave=False, classes=None, agnostic_nms=True, augment=False, visualize=False, update=False, project=runs/detect, name=exp, exist_ok=False, line_thickness=2, hide_labels=False, hide_conf=False, half=False, dnn=False\n",
            "YOLOv5 🚀 3f2e708 torch 1.10.1+cu113 CUDA:0 (Tesla T4, 15110MiB)\n",
            "\n",
            "Fusing layers... \n",
            "Model Summary: 290 layers, 21681339 parameters, 0 gradients, 50.6 GFLOPs\n",
            "image 1/100 /content/datasets/roboflow/valid/images/A1_jpg.rf.467e301f7decc39d6f77e45ab7614421.jpg: 416x416 1 J, Done. (0.020s)\n",
            "image 2/100 /content/datasets/roboflow/valid/images/A23_jpg.rf.07a011103d0153dcd03a18761c226699.jpg: 416x416 1 J, Done. (0.020s)\n",
            "image 3/100 /content/datasets/roboflow/valid/images/A27_jpg.rf.6814a529152cbda95b5d5ff2f0594a96.jpg: 416x416 1 J, Done. (0.020s)\n",
            "image 4/100 /content/datasets/roboflow/valid/images/B10_jpg.rf.95839a6177c3d1c975afb837960d89ab.jpg: 416x416 1 J, Done. (0.016s)\n",
            "image 5/100 /content/datasets/roboflow/valid/images/B16_jpg.rf.4a1129d006fe6a62287e528a7163f6cd.jpg: 416x416 1 Z, Done. (0.016s)\n",
            "image 6/100 /content/datasets/roboflow/valid/images/B21_jpg.rf.215ef3f6a592fc588fe6ab898eb2a4a7.jpg: 416x416 1 Z, Done. (0.016s)\n",
            "image 7/100 /content/datasets/roboflow/valid/images/B22_jpg.rf.345b69013b85fd040093cc9fc36eadf4.jpg: 416x416 1 J, Done. (0.015s)\n",
            "image 8/100 /content/datasets/roboflow/valid/images/B23_jpg.rf.90629db8f26de2510d2fe6f2322621b1.jpg: 416x416 1 J, Done. (0.015s)\n",
            "image 9/100 /content/datasets/roboflow/valid/images/B24_jpg.rf.dc41d1191f8612e8baa1ac014f0e5812.jpg: 416x416 1 J, Done. (0.018s)\n",
            "image 10/100 /content/datasets/roboflow/valid/images/C16_jpg.rf.949b74e2a2ed89c2a626adea932802d8.jpg: 416x416 2 Js, Done. (0.016s)\n",
            "image 11/100 /content/datasets/roboflow/valid/images/C8_jpg.rf.19672e5bba4c24904f6974880851651f.jpg: 416x416 Done. (0.015s)\n",
            "image 12/100 /content/datasets/roboflow/valid/images/D15_jpg.rf.0d21d225034b658a57e3d4c2c03454ad.jpg: 416x416 1 J, Done. (0.015s)\n",
            "image 13/100 /content/datasets/roboflow/valid/images/D22_jpg.rf.a20241f1a934b24d9dd51685a0c9dab2.jpg: 416x416 1 Z, Done. (0.016s)\n",
            "image 14/100 /content/datasets/roboflow/valid/images/E10_jpg.rf.ff0e59c67309f7f89405015bfde5ffa9.jpg: 416x416 1 J, Done. (0.016s)\n",
            "image 15/100 /content/datasets/roboflow/valid/images/E14_jpg.rf.8a2507d0781bb6b6806577e52b4bd722.jpg: 416x416 1 J, Done. (0.014s)\n",
            "image 16/100 /content/datasets/roboflow/valid/images/E15_jpg.rf.dd7735e12f06003d1fdb88271095c233.jpg: 416x416 1 J, Done. (0.014s)\n",
            "image 17/100 /content/datasets/roboflow/valid/images/E17_jpg.rf.7c322f7d14095ac4a76af53c7741d556.jpg: 416x416 1 J, Done. (0.015s)\n",
            "image 18/100 /content/datasets/roboflow/valid/images/F12_jpg.rf.a9bc2c785704c021446a75cda4441237.jpg: 416x416 1 J, Done. (0.014s)\n",
            "image 19/100 /content/datasets/roboflow/valid/images/F19_jpg.rf.0d5b64d85bbdbacda69c3f03ba52b59a.jpg: 416x416 1 M, Done. (0.014s)\n",
            "image 20/100 /content/datasets/roboflow/valid/images/F21_jpg.rf.af8dbcaa4f4cb4c0ef85afb0f91508b0.jpg: 416x416 1 Z, Done. (0.014s)\n",
            "image 21/100 /content/datasets/roboflow/valid/images/F24_jpg.rf.25f3a3a3cc94953ee5583b224c8b6e0b.jpg: 416x416 1 J, Done. (0.015s)\n",
            "image 22/100 /content/datasets/roboflow/valid/images/F28_jpg.rf.0d02b3727776cc18141269680a14f776.jpg: 416x416 1 J, Done. (0.016s)\n",
            "image 23/100 /content/datasets/roboflow/valid/images/F3_jpg.rf.f60ff93459779bb36ba48c9b5bb39ff1.jpg: 416x416 1 J, Done. (0.014s)\n",
            "image 24/100 /content/datasets/roboflow/valid/images/G17_jpg.rf.e88f604ed160954123f9877b50767fa3.jpg: 416x416 2 Js, Done. (0.014s)\n",
            "image 25/100 /content/datasets/roboflow/valid/images/G1_jpg.rf.6543ee2b9cb31330f312a35f225e38d3.jpg: 416x416 2 Js, Done. (0.017s)\n",
            "image 26/100 /content/datasets/roboflow/valid/images/G27_jpg.rf.8cb699dc850fd69ac0408b02c427681f.jpg: 416x416 1 J, Done. (0.014s)\n",
            "image 27/100 /content/datasets/roboflow/valid/images/G6_jpg.rf.f82cf2dff5d0f5ecc978f3a679a10d28.jpg: 416x416 3 Js, Done. (0.014s)\n",
            "image 28/100 /content/datasets/roboflow/valid/images/G7_jpg.rf.d43783d601222f51b92828b34d17a077.jpg: 416x416 2 Js, Done. (0.014s)\n",
            "image 29/100 /content/datasets/roboflow/valid/images/H0_jpg.rf.cfabbc7d888a6e975ce3e58355c916c8.jpg: 416x416 2 Js, Done. (0.014s)\n",
            "image 30/100 /content/datasets/roboflow/valid/images/H1_jpg.rf.7364784943c9e355d9f877b1bddd2646.jpg: 416x416 2 Js, Done. (0.018s)\n",
            "image 31/100 /content/datasets/roboflow/valid/images/H2_jpg.rf.45bd9828aa27be81f06b6cc236ae18d5.jpg: 416x416 1 J, Done. (0.014s)\n",
            "image 32/100 /content/datasets/roboflow/valid/images/I10_jpg.rf.aa1a480e6ab8acf7e8d93784d448a0ff.jpg: 416x416 1 J, Done. (0.014s)\n",
            "image 33/100 /content/datasets/roboflow/valid/images/I28_jpg.rf.ae79c23a8090b4e6f3870e08a589d38b.jpg: 416x416 Done. (0.014s)\n",
            "image 34/100 /content/datasets/roboflow/valid/images/I3_jpg.rf.3c14c051989bfdb12d5f12267c3600d5.jpg: 416x416 2 Js, Done. (0.014s)\n",
            "image 35/100 /content/datasets/roboflow/valid/images/I4_jpg.rf.70d0d54c62e42c3ecb65c7ce6d6c8bb2.jpg: 416x416 1 J, Done. (0.014s)\n",
            "image 36/100 /content/datasets/roboflow/valid/images/J13_jpg.rf.5187b9301a86e0b1f7e342715285f20f.jpg: 416x416 2 Js, Done. (0.017s)\n",
            "image 37/100 /content/datasets/roboflow/valid/images/J17_jpg.rf.a9efc2d4fe3e3f8ce32ce94956300306.jpg: 416x416 Done. (0.014s)\n",
            "image 38/100 /content/datasets/roboflow/valid/images/J21_jpg.rf.3250a1c4761352c6694826a6cef4c56e.jpg: 416x416 Done. (0.017s)\n",
            "image 39/100 /content/datasets/roboflow/valid/images/J27_jpg.rf.74fe9a4c2b0fbd0dde5b7c0f34baaf14.jpg: 416x416 1 J, Done. (0.014s)\n",
            "image 40/100 /content/datasets/roboflow/valid/images/J30_jpg.rf.f4175ab0c2e796baafbfd0b5d13c2885.jpg: 416x416 1 J, Done. (0.014s)\n",
            "image 41/100 /content/datasets/roboflow/valid/images/K19_jpg.rf.c13d89cdccdfad11666af66696ed9cde.jpg: 416x416 2 Js, Done. (0.016s)\n",
            "image 42/100 /content/datasets/roboflow/valid/images/K24_jpg.rf.4248a741b43ccc99c75db07eaaa7c554.jpg: 416x416 2 Js, Done. (0.015s)\n",
            "image 43/100 /content/datasets/roboflow/valid/images/L11_jpg.rf.4f3a0be4eac31453dbc4d4d2c1d850f8.jpg: 416x416 1 J, Done. (0.014s)\n",
            "image 44/100 /content/datasets/roboflow/valid/images/L18_jpg.rf.57810d412f5807dc40d18172067bd647.jpg: 416x416 1 J, Done. (0.014s)\n",
            "image 45/100 /content/datasets/roboflow/valid/images/L26_jpg.rf.d32aeaeb21312899b32f7b5ac038db50.jpg: 416x416 1 J, Done. (0.014s)\n",
            "image 46/100 /content/datasets/roboflow/valid/images/L7_jpg.rf.1e95101e85cd9feb39fbad0cd8064902.jpg: 416x416 1 J, Done. (0.014s)\n",
            "image 47/100 /content/datasets/roboflow/valid/images/L8_jpg.rf.c87c4490deec73bfe8bd32502d5631e4.jpg: 416x416 2 Js, Done. (0.014s)\n",
            "image 48/100 /content/datasets/roboflow/valid/images/M12_jpg.rf.b4b5f6c5aa050e2faad1fb0f399a1c63.jpg: 416x416 1 J, Done. (0.014s)\n",
            "image 49/100 /content/datasets/roboflow/valid/images/M20_jpg.rf.e5f99eee1f191893ecce37a2975d2a0c.jpg: 416x416 Done. (0.014s)\n",
            "image 50/100 /content/datasets/roboflow/valid/images/N17_jpg.rf.a6fa64c1e09b00c97e59706cefb205c1.jpg: 416x416 1 J, Done. (0.014s)\n",
            "image 51/100 /content/datasets/roboflow/valid/images/N19_jpg.rf.be2f3562efaab16dff4bb29a02bebfb0.jpg: 416x416 1 J, Done. (0.017s)\n",
            "image 52/100 /content/datasets/roboflow/valid/images/N20_jpg.rf.87194581cce798ca164d56d7e3b753bc.jpg: 416x416 1 J, Done. (0.014s)\n",
            "image 53/100 /content/datasets/roboflow/valid/images/N4_jpg.rf.b8dc74a60b18d61234c75dc4360b9a94.jpg: 416x416 1 J, Done. (0.015s)\n",
            "image 54/100 /content/datasets/roboflow/valid/images/N5_jpg.rf.32839859648f10c3528bc6d2db73d558.jpg: 416x416 1 J, Done. (0.014s)\n",
            "image 55/100 /content/datasets/roboflow/valid/images/O13_jpg.rf.ac6d0ba8a1dd7444178dd141be18e125.jpg: 416x416 1 G, Done. (0.015s)\n",
            "image 56/100 /content/datasets/roboflow/valid/images/O19_jpg.rf.83bdc9f66059cce286085d6cf043cae4.jpg: 416x416 1 Z, Done. (0.016s)\n",
            "image 57/100 /content/datasets/roboflow/valid/images/O27_jpg.rf.0d12bd2abd6f6745f6719e7cadd6fb55.jpg: 416x416 1 J, Done. (0.014s)\n",
            "image 58/100 /content/datasets/roboflow/valid/images/P10_jpg.rf.cecbe7793f212abec5fdc156eea9237d.jpg: 416x416 1 J, Done. (0.015s)\n",
            "image 59/100 /content/datasets/roboflow/valid/images/P13_jpg.rf.7cceee118a4caa317fb32fb1945cbb33.jpg: 416x416 1 J, Done. (0.014s)\n",
            "image 60/100 /content/datasets/roboflow/valid/images/P2_jpg.rf.24cfcfe29ac106809f532dec28d8477e.jpg: 416x416 Done. (0.014s)\n",
            "image 61/100 /content/datasets/roboflow/valid/images/P3_jpg.rf.c969486bf027c8c4042c365157fb5796.jpg: 416x416 1 J, Done. (0.014s)\n",
            "image 62/100 /content/datasets/roboflow/valid/images/P5_jpg.rf.a1ffc9f1c39b4bbf8496afea35f7bfe9.jpg: 416x416 1 J, Done. (0.014s)\n",
            "image 63/100 /content/datasets/roboflow/valid/images/Q0_jpg.rf.6ea3b095c09e5262fc14067234e40193.jpg: 416x416 Done. (0.014s)\n",
            "image 64/100 /content/datasets/roboflow/valid/images/Q10_jpg.rf.b565ebe86b079f39e9f8c3e420489ba9.jpg: 416x416 Done. (0.016s)\n",
            "image 65/100 /content/datasets/roboflow/valid/images/Q18_jpg.rf.7162ef310f8f0db77741b6b6b52fce9d.jpg: 416x416 1 J, Done. (0.014s)\n",
            "image 66/100 /content/datasets/roboflow/valid/images/Q2_jpg.rf.b60287d281dd196486d537bfb6c976c2.jpg: 416x416 Done. (0.014s)\n",
            "image 67/100 /content/datasets/roboflow/valid/images/Q8_jpg.rf.55fb4b28de5744f0759d63ac54320774.jpg: 416x416 1 G, Done. (0.014s)\n",
            "image 68/100 /content/datasets/roboflow/valid/images/R14_jpg.rf.f494b6b003744648f70b6aad71a9f796.jpg: 416x416 1 J, Done. (0.015s)\n",
            "image 69/100 /content/datasets/roboflow/valid/images/R20_jpg.rf.c539e8afcad2b076d837c0426c923977.jpg: 416x416 1 J, Done. (0.015s)\n",
            "image 70/100 /content/datasets/roboflow/valid/images/R8_jpg.rf.3a7449f782784a9056b73c71935e0780.jpg: 416x416 2 Js, Done. (0.015s)\n",
            "image 71/100 /content/datasets/roboflow/valid/images/S11_jpg.rf.67c11d1e78ed6dd7ea834279b53eb1fa.jpg: 416x416 1 J, Done. (0.014s)\n",
            "image 72/100 /content/datasets/roboflow/valid/images/S3_jpg.rf.6363f7ebb443353455e4abfac892f063.jpg: 416x416 1 J, Done. (0.014s)\n",
            "image 73/100 /content/datasets/roboflow/valid/images/U15_jpg.rf.28a48bc45c6ab022e42f9cec8af87961.jpg: 416x416 1 M, Done. (0.014s)\n",
            "image 74/100 /content/datasets/roboflow/valid/images/U19_jpg.rf.64da8274038e6c48da9cc596345b867e.jpg: 416x416 1 J, Done. (0.019s)\n",
            "image 75/100 /content/datasets/roboflow/valid/images/U23_jpg.rf.1a7c8ce758698fbdad6a84aaba95d365.jpg: 416x416 1 J, Done. (0.014s)\n",
            "image 76/100 /content/datasets/roboflow/valid/images/U24_jpg.rf.d2d7a816fd4370b898afdd6e1374d36f.jpg: 416x416 2 Js, Done. (0.015s)\n",
            "image 77/100 /content/datasets/roboflow/valid/images/U6_jpg.rf.8996606d2ad6d824bd47410f0120f945.jpg: 416x416 1 J, Done. (0.017s)\n",
            "image 78/100 /content/datasets/roboflow/valid/images/V0_jpg.rf.c9f143295b4ec2fee610df9cfb27356d.jpg: 416x416 1 J, Done. (0.014s)\n",
            "image 79/100 /content/datasets/roboflow/valid/images/V16_jpg.rf.643e7f2eb21ee113bc19583e732a6fa2.jpg: 416x416 1 J, Done. (0.014s)\n",
            "image 80/100 /content/datasets/roboflow/valid/images/V18_jpg.rf.e9aeabb53005f209998d8f78de207fe8.jpg: 416x416 1 J, Done. (0.015s)\n",
            "image 81/100 /content/datasets/roboflow/valid/images/V4_jpg.rf.6c3247b2b664c2166ef260210114cc33.jpg: 416x416 2 Js, Done. (0.015s)\n",
            "image 82/100 /content/datasets/roboflow/valid/images/W0_jpg.rf.c0faba963ab363c13d739ac7efb2d36d.jpg: 416x416 1 J, Done. (0.015s)\n",
            "image 83/100 /content/datasets/roboflow/valid/images/W17_jpg.rf.3494b13d1073cb63a8f0c9ec99ff89fa.jpg: 416x416 1 M, Done. (0.015s)\n",
            "image 84/100 /content/datasets/roboflow/valid/images/W3_jpg.rf.ba0b8e075ee46eaed585cdbb373d61db.jpg: 416x416 1 J, Done. (0.014s)\n",
            "image 85/100 /content/datasets/roboflow/valid/images/W4_jpg.rf.5ffc87d10ab68ee7b0c1e7c882ecf5a2.jpg: 416x416 2 Js, Done. (0.015s)\n",
            "image 86/100 /content/datasets/roboflow/valid/images/X0_jpg.rf.927ee1bf6f6b69799735e77e66e5943e.jpg: 416x416 1 J, Done. (0.014s)\n",
            "image 87/100 /content/datasets/roboflow/valid/images/X21_jpg.rf.5b6d7c11431926b3cd043b71ec06bf08.jpg: 416x416 1 J, Done. (0.020s)\n",
            "image 88/100 /content/datasets/roboflow/valid/images/X2_jpg.rf.6ed289076514e5702315f73ef61b070e.jpg: 416x416 1 M, Done. (0.014s)\n",
            "image 89/100 /content/datasets/roboflow/valid/images/X4_jpg.rf.48896688e794e367dc9924184438907d.jpg: 416x416 1 J, Done. (0.017s)\n",
            "image 90/100 /content/datasets/roboflow/valid/images/X7_jpg.rf.96603a5ceb478b0ae22cef147ec529be.jpg: 416x416 1 M, Done. (0.014s)\n",
            "image 91/100 /content/datasets/roboflow/valid/images/X9_jpg.rf.2c3cb4f7796340cdd17b07cad1d67d03.jpg: 416x416 1 Z, Done. (0.015s)\n",
            "image 92/100 /content/datasets/roboflow/valid/images/Y0_jpg.rf.22b6fb5a31b98c7c5a8eae4a768d8652.jpg: 416x416 1 J, Done. (0.014s)\n",
            "image 93/100 /content/datasets/roboflow/valid/images/Y16_jpg.rf.4e90ec98cbad8faac43a073775bf99a6.jpg: 416x416 1 H, Done. (0.015s)\n",
            "image 94/100 /content/datasets/roboflow/valid/images/Y18_jpg.rf.41a0a0ce3aac0579351ef82293833681.jpg: 416x416 1 J, Done. (0.014s)\n",
            "image 95/100 /content/datasets/roboflow/valid/images/Y21_jpg.rf.bccdf48993d016f1e854cf913d04e812.jpg: 416x416 1 J, Done. (0.014s)\n",
            "image 96/100 /content/datasets/roboflow/valid/images/Z21_jpg.rf.9a2f9795b326eecd3e63125282518d39.jpg: 416x416 1 J, Done. (0.014s)\n",
            "image 97/100 /content/datasets/roboflow/valid/images/Z22_jpg.rf.e3f5a3ad162498925a7f4631d6dbf941.jpg: 416x416 1 J, Done. (0.014s)\n",
            "image 98/100 /content/datasets/roboflow/valid/images/Z28_jpg.rf.ed4041d9c0585dc824ec25f741efcfdf.jpg: 416x416 1 J, Done. (0.016s)\n",
            "image 99/100 /content/datasets/roboflow/valid/images/Z29_jpg.rf.22988c860a9a7984016b8442f9326c16.jpg: 416x416 1 J, Done. (0.016s)\n",
            "image 100/100 /content/datasets/roboflow/valid/images/Z3_jpg.rf.64cfcd41c84290c4aa8a28bb66417c5c.jpg: 416x416 1 J, Done. (0.014s)\n",
            "Speed: 0.3ms pre-process, 15.0ms inference, 2.2ms NMS per image at shape (1, 3, 416, 416)\n",
            "Results saved to \u001b[1mruns/detect/exp\u001b[0m\n"
          ]
        }
      ]
    },
    {
      "cell_type": "code",
      "source": [
        "%cd /content/yolov5_obb/runs/detect/exp/"
      ],
      "metadata": {
        "colab": {
          "base_uri": "https://localhost:8080/"
        },
        "id": "D782nBcaL5er",
        "outputId": "2e20d543-4eb1-49d1-cb8f-285807618f70"
      },
      "execution_count": null,
      "outputs": [
        {
          "output_type": "stream",
          "name": "stdout",
          "text": [
            "[Errno 2] No such file or directory: '/content/yolov5_obb/runs/detect/exp/'\n",
            "/content/yolov5_obb\n"
          ]
        }
      ]
    },
    {
      "cell_type": "code",
      "source": [
        "import os, random\n",
        "random_file = random.choice(os.listdir(\"/content/yolov5_obb/runs/detect/exp\"))\n",
        "\n",
        "from IPython.display import Image\n",
        "Image(random_file)"
      ],
      "metadata": {
        "id": "K6RlZpzxb_kE",
        "colab": {
          "base_uri": "https://localhost:8080/",
          "height": 211
        },
        "outputId": "3fddc7f3-a0ca-431e-da9c-a97455c12448"
      },
      "execution_count": null,
      "outputs": [
        {
          "output_type": "error",
          "ename": "FileNotFoundError",
          "evalue": "[Errno 2] No such file or directory: '/content/yolov5_obb/runs/detect/exp'",
          "traceback": [
            "\u001b[0;31m---------------------------------------------------------------------------\u001b[0m",
            "\u001b[0;31mFileNotFoundError\u001b[0m                         Traceback (most recent call last)",
            "\u001b[0;32m<ipython-input-10-6311f2112869>\u001b[0m in \u001b[0;36m<cell line: 2>\u001b[0;34m()\u001b[0m\n\u001b[1;32m      1\u001b[0m \u001b[0;32mimport\u001b[0m \u001b[0mos\u001b[0m\u001b[0;34m,\u001b[0m \u001b[0mrandom\u001b[0m\u001b[0;34m\u001b[0m\u001b[0;34m\u001b[0m\u001b[0m\n\u001b[0;32m----> 2\u001b[0;31m \u001b[0mrandom_file\u001b[0m \u001b[0;34m=\u001b[0m \u001b[0mrandom\u001b[0m\u001b[0;34m.\u001b[0m\u001b[0mchoice\u001b[0m\u001b[0;34m(\u001b[0m\u001b[0mos\u001b[0m\u001b[0;34m.\u001b[0m\u001b[0mlistdir\u001b[0m\u001b[0;34m(\u001b[0m\u001b[0;34m\"/content/yolov5_obb/runs/detect/exp\"\u001b[0m\u001b[0;34m)\u001b[0m\u001b[0;34m)\u001b[0m\u001b[0;34m\u001b[0m\u001b[0;34m\u001b[0m\u001b[0m\n\u001b[0m\u001b[1;32m      3\u001b[0m \u001b[0;34m\u001b[0m\u001b[0m\n\u001b[1;32m      4\u001b[0m \u001b[0;32mfrom\u001b[0m \u001b[0mIPython\u001b[0m\u001b[0;34m.\u001b[0m\u001b[0mdisplay\u001b[0m \u001b[0;32mimport\u001b[0m \u001b[0mImage\u001b[0m\u001b[0;34m\u001b[0m\u001b[0;34m\u001b[0m\u001b[0m\n\u001b[1;32m      5\u001b[0m \u001b[0mImage\u001b[0m\u001b[0;34m(\u001b[0m\u001b[0mrandom_file\u001b[0m\u001b[0;34m)\u001b[0m\u001b[0;34m\u001b[0m\u001b[0;34m\u001b[0m\u001b[0m\n",
            "\u001b[0;31mFileNotFoundError\u001b[0m: [Errno 2] No such file or directory: '/content/yolov5_obb/runs/detect/exp'"
          ]
        }
      ]
    },
    {
      "cell_type": "code",
      "source": [
        "from google.colab import files\n",
        "files.download(\"/content/fyolov5_obb\")\n"
      ],
      "metadata": {
        "id": "ZV0l9xhOrzry",
        "outputId": "bddad3b5-e369-4362-cff4-4c1f53dd200b",
        "colab": {
          "base_uri": "https://localhost:8080/",
          "height": 280
        }
      },
      "execution_count": null,
      "outputs": [
        {
          "output_type": "error",
          "ename": "FileNotFoundError",
          "evalue": "Cannot find file: /content/fyolov5_obb",
          "traceback": [
            "\u001b[0;31m---------------------------------------------------------------------------\u001b[0m",
            "\u001b[0;31mFileNotFoundError\u001b[0m                         Traceback (most recent call last)",
            "\u001b[0;32m<ipython-input-13-9c919fad59e5>\u001b[0m in \u001b[0;36m<cell line: 2>\u001b[0;34m()\u001b[0m\n\u001b[1;32m      1\u001b[0m \u001b[0;32mfrom\u001b[0m \u001b[0mgoogle\u001b[0m\u001b[0;34m.\u001b[0m\u001b[0mcolab\u001b[0m \u001b[0;32mimport\u001b[0m \u001b[0mfiles\u001b[0m\u001b[0;34m\u001b[0m\u001b[0;34m\u001b[0m\u001b[0m\n\u001b[0;32m----> 2\u001b[0;31m \u001b[0mfiles\u001b[0m\u001b[0;34m.\u001b[0m\u001b[0mdownload\u001b[0m\u001b[0;34m(\u001b[0m\u001b[0;34m\"/content/fyolov5_obb\"\u001b[0m\u001b[0;34m)\u001b[0m\u001b[0;34m\u001b[0m\u001b[0;34m\u001b[0m\u001b[0m\n\u001b[0m",
            "\u001b[0;32m/usr/local/lib/python3.10/dist-packages/google/colab/files.py\u001b[0m in \u001b[0;36mdownload\u001b[0;34m(filename)\u001b[0m\n\u001b[1;32m    223\u001b[0m   \u001b[0;32mif\u001b[0m \u001b[0;32mnot\u001b[0m \u001b[0m_os\u001b[0m\u001b[0;34m.\u001b[0m\u001b[0mpath\u001b[0m\u001b[0;34m.\u001b[0m\u001b[0mexists\u001b[0m\u001b[0;34m(\u001b[0m\u001b[0mfilename\u001b[0m\u001b[0;34m)\u001b[0m\u001b[0;34m:\u001b[0m\u001b[0;34m\u001b[0m\u001b[0;34m\u001b[0m\u001b[0m\n\u001b[1;32m    224\u001b[0m     \u001b[0mmsg\u001b[0m \u001b[0;34m=\u001b[0m \u001b[0;34m'Cannot find file: {}'\u001b[0m\u001b[0;34m.\u001b[0m\u001b[0mformat\u001b[0m\u001b[0;34m(\u001b[0m\u001b[0mfilename\u001b[0m\u001b[0;34m)\u001b[0m\u001b[0;34m\u001b[0m\u001b[0;34m\u001b[0m\u001b[0m\n\u001b[0;32m--> 225\u001b[0;31m     \u001b[0;32mraise\u001b[0m \u001b[0mFileNotFoundError\u001b[0m\u001b[0;34m(\u001b[0m\u001b[0mmsg\u001b[0m\u001b[0;34m)\u001b[0m  \u001b[0;31m# pylint: disable=undefined-variable\u001b[0m\u001b[0;34m\u001b[0m\u001b[0;34m\u001b[0m\u001b[0m\n\u001b[0m\u001b[1;32m    226\u001b[0m \u001b[0;34m\u001b[0m\u001b[0m\n\u001b[1;32m    227\u001b[0m   \u001b[0mcomm_manager\u001b[0m \u001b[0;34m=\u001b[0m \u001b[0m_IPython\u001b[0m\u001b[0;34m.\u001b[0m\u001b[0mget_ipython\u001b[0m\u001b[0;34m(\u001b[0m\u001b[0;34m)\u001b[0m\u001b[0;34m.\u001b[0m\u001b[0mkernel\u001b[0m\u001b[0;34m.\u001b[0m\u001b[0mcomm_manager\u001b[0m\u001b[0;34m\u001b[0m\u001b[0;34m\u001b[0m\u001b[0m\n",
            "\u001b[0;31mFileNotFoundError\u001b[0m: Cannot find file: /content/fyolov5_obb"
          ]
        }
      ]
    }
  ]
}